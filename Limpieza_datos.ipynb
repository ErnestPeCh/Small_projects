{
 "cells": [
  {
   "cell_type": "code",
   "execution_count": 1,
   "metadata": {},
   "outputs": [],
   "source": [
    "#EN ESTE NOTEBOOK SE REALIZA LA LIMPIEZA DE LOS DATOS INICIALES QUE IRÁN A MATHEMATICA PARA SU ANÁLISIS"
   ]
  },
  {
   "cell_type": "code",
   "execution_count": null,
   "metadata": {},
   "outputs": [],
   "source": [
    "import pandas as pd\n",
    "import glob\n",
    "import matplotlib.pyplot as plt\n",
    "import numpy as np\n",
    "import seaborn as sns"
   ]
  },
  {
   "cell_type": "code",
   "execution_count": null,
   "metadata": {
    "scrolled": true
   },
   "outputs": [],
   "source": [
    "DATA = pd.read_csv(\"Ventosa.csv\")"
   ]
  },
  {
   "cell_type": "code",
   "execution_count": 106,
   "metadata": {
    "scrolled": false
   },
   "outputs": [],
   "source": [
    "pd.to_datetime(DATA[\"date\"])\n",
    "DATA.index = DATA[\"date\"]"
   ]
  },
  {
   "cell_type": "code",
   "execution_count": 107,
   "metadata": {},
   "outputs": [
    {
     "data": {
      "text/plain": [
       "False    124669\n",
       "True         27\n",
       "dtype: int64"
      ]
     },
     "execution_count": 107,
     "metadata": {},
     "output_type": "execute_result"
    }
   ],
   "source": [
    "#BUSCAMOS SI HAY FECHAS REPETIDAS. Los TRUE son valores repetidos que posteriormente eliminaremos.\n",
    "DATA.duplicated().value_counts()"
   ]
  },
  {
   "cell_type": "code",
   "execution_count": 108,
   "metadata": {},
   "outputs": [],
   "source": [
    "del DATA[\"date\"]"
   ]
  },
  {
   "cell_type": "code",
   "execution_count": 109,
   "metadata": {},
   "outputs": [],
   "source": [
    "#ELIMINAMOS VALORES DUPLICADOS EN EL ÍNDICE EN CASO DE EXISTIR\n",
    "DATA[\"index\"] = DATA.index \n",
    "DATA.drop_duplicates(inplace=True) \n",
    "del DATA[\"index\"]"
   ]
  },
  {
   "cell_type": "code",
   "execution_count": 110,
   "metadata": {
    "scrolled": true
   },
   "outputs": [],
   "source": [
    "#ELIMINAMOS LAS COLUMNAS QUE NO NOS INTERESAN\n",
    "del DATA[\"WS_80mB_mean\"]\n",
    "del DATA[\"WS_60m_mean\"]\n",
    "del DATA[\"WS_40m_mean\"]\n",
    "del DATA[\"WS_20m_mean\"]\n",
    "del DATA[\"WD_58m_mean\"]\n",
    "del DATA[\"Rad_80m_mean\"]\n",
    "\n"
   ]
  },
  {
   "cell_type": "code",
   "execution_count": 111,
   "metadata": {},
   "outputs": [
    {
     "data": {
      "text/plain": [
       "WS_80mA_mean    0\n",
       "WD_78m_mean     0\n",
       "dtype: int64"
      ]
     },
     "execution_count": 111,
     "metadata": {},
     "output_type": "execute_result"
    }
   ],
   "source": [
    "#BUSCAMOS VALORES NULL Y NaN\n",
    "DATA.isnull().sum()"
   ]
  },
  {
   "cell_type": "code",
   "execution_count": 112,
   "metadata": {},
   "outputs": [
    {
     "data": {
      "text/plain": [
       "WS_80mA_mean    0\n",
       "WD_78m_mean     0\n",
       "dtype: int64"
      ]
     },
     "execution_count": 112,
     "metadata": {},
     "output_type": "execute_result"
    }
   ],
   "source": [
    "DATA.isna().sum()"
   ]
  },
  {
   "cell_type": "code",
   "execution_count": 113,
   "metadata": {
    "scrolled": true
   },
   "outputs": [
    {
     "data": {
      "text/plain": [
       "WS_80mA_mean    124669\n",
       "WD_78m_mean     124669\n",
       "dtype: int64"
      ]
     },
     "execution_count": 113,
     "metadata": {},
     "output_type": "execute_result"
    }
   ],
   "source": [
    "DATA.notnull().sum()"
   ]
  },
  {
   "cell_type": "code",
   "execution_count": 114,
   "metadata": {
    "scrolled": true
   },
   "outputs": [],
   "source": [
    "#ELIMINAMOS LOS VALORES NAN Y NOS QUEDAMOS SÓLAMENTE CON LAS ESTAMPAS TEMPORALES COMPLETAS.\n",
    "DATA.dropna(inplace=True)"
   ]
  },
  {
   "cell_type": "code",
   "execution_count": 115,
   "metadata": {
    "scrolled": false
   },
   "outputs": [
    {
     "data": {
      "text/html": [
       "<div>\n",
       "<style scoped>\n",
       "    .dataframe tbody tr th:only-of-type {\n",
       "        vertical-align: middle;\n",
       "    }\n",
       "\n",
       "    .dataframe tbody tr th {\n",
       "        vertical-align: top;\n",
       "    }\n",
       "\n",
       "    .dataframe thead th {\n",
       "        text-align: right;\n",
       "    }\n",
       "</style>\n",
       "<table border=\"1\" class=\"dataframe\">\n",
       "  <thead>\n",
       "    <tr style=\"text-align: right;\">\n",
       "      <th></th>\n",
       "      <th>WS_80mA_mean</th>\n",
       "      <th>WD_78m_mean</th>\n",
       "    </tr>\n",
       "    <tr>\n",
       "      <th>date</th>\n",
       "      <th></th>\n",
       "      <th></th>\n",
       "    </tr>\n",
       "  </thead>\n",
       "  <tbody>\n",
       "    <tr>\n",
       "      <th>2018-01-01 00:00:00</th>\n",
       "      <td>9.1229</td>\n",
       "      <td>340.1</td>\n",
       "    </tr>\n",
       "    <tr>\n",
       "      <th>2018-01-01 00:10:00</th>\n",
       "      <td>10.4760</td>\n",
       "      <td>339.8</td>\n",
       "    </tr>\n",
       "    <tr>\n",
       "      <th>2018-01-01 00:20:00</th>\n",
       "      <td>10.0540</td>\n",
       "      <td>341.7</td>\n",
       "    </tr>\n",
       "    <tr>\n",
       "      <th>2018-01-01 00:30:00</th>\n",
       "      <td>11.0280</td>\n",
       "      <td>334.5</td>\n",
       "    </tr>\n",
       "    <tr>\n",
       "      <th>2018-01-01 00:40:00</th>\n",
       "      <td>12.3870</td>\n",
       "      <td>335.7</td>\n",
       "    </tr>\n",
       "    <tr>\n",
       "      <th>...</th>\n",
       "      <td>...</td>\n",
       "      <td>...</td>\n",
       "    </tr>\n",
       "    <tr>\n",
       "      <th>2019-12-31 23:10:00</th>\n",
       "      <td>11.8410</td>\n",
       "      <td>335.1</td>\n",
       "    </tr>\n",
       "    <tr>\n",
       "      <th>2019-12-31 23:20:00</th>\n",
       "      <td>11.7920</td>\n",
       "      <td>331.4</td>\n",
       "    </tr>\n",
       "    <tr>\n",
       "      <th>2019-12-31 23:30:00</th>\n",
       "      <td>11.0840</td>\n",
       "      <td>329.6</td>\n",
       "    </tr>\n",
       "    <tr>\n",
       "      <th>2019-12-31 23:40:00</th>\n",
       "      <td>11.7540</td>\n",
       "      <td>330.3</td>\n",
       "    </tr>\n",
       "    <tr>\n",
       "      <th>2019-12-31 23:50:00</th>\n",
       "      <td>12.0020</td>\n",
       "      <td>330.0</td>\n",
       "    </tr>\n",
       "  </tbody>\n",
       "</table>\n",
       "<p>93995 rows × 2 columns</p>\n",
       "</div>"
      ],
      "text/plain": [
       "                     WS_80mA_mean  WD_78m_mean\n",
       "date                                          \n",
       "2018-01-01 00:00:00        9.1229        340.1\n",
       "2018-01-01 00:10:00       10.4760        339.8\n",
       "2018-01-01 00:20:00       10.0540        341.7\n",
       "2018-01-01 00:30:00       11.0280        334.5\n",
       "2018-01-01 00:40:00       12.3870        335.7\n",
       "...                           ...          ...\n",
       "2019-12-31 23:10:00       11.8410        335.1\n",
       "2019-12-31 23:20:00       11.7920        331.4\n",
       "2019-12-31 23:30:00       11.0840        329.6\n",
       "2019-12-31 23:40:00       11.7540        330.3\n",
       "2019-12-31 23:50:00       12.0020        330.0\n",
       "\n",
       "[93995 rows x 2 columns]"
      ]
     },
     "execution_count": 115,
     "metadata": {},
     "output_type": "execute_result"
    }
   ],
   "source": [
    "data = DATA[\"2018-01-01\":\"2020-01-01\"]\n",
    "data"
   ]
  },
  {
   "cell_type": "code",
   "execution_count": 116,
   "metadata": {},
   "outputs": [
    {
     "data": {
      "text/plain": [
       "11125"
      ]
     },
     "execution_count": 116,
     "metadata": {},
     "output_type": "execute_result"
    }
   ],
   "source": [
    "105120 - len(data)"
   ]
  },
  {
   "cell_type": "code",
   "execution_count": 117,
   "metadata": {},
   "outputs": [],
   "source": [
    "#GUARDAMOS NUESTRO DATAFRAME LIMPIO\n",
    "data.to_csv(\"Ventosa1819.csv\")"
   ]
  },
  {
   "cell_type": "code",
   "execution_count": null,
   "metadata": {},
   "outputs": [],
   "source": []
  }
 ],
 "metadata": {
  "kernelspec": {
   "display_name": "Python 3",
   "language": "python",
   "name": "python3"
  },
  "language_info": {
   "codemirror_mode": {
    "name": "ipython",
    "version": 3
   },
   "file_extension": ".py",
   "mimetype": "text/x-python",
   "name": "python",
   "nbconvert_exporter": "python",
   "pygments_lexer": "ipython3",
   "version": "3.7.3"
  }
 },
 "nbformat": 4,
 "nbformat_minor": 2
}
